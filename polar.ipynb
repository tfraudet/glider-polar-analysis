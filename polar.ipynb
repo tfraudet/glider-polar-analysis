{
 "cells": [
  {
   "attachments": {},
   "cell_type": "markdown",
   "metadata": {},
   "source": [
    "# Glider Speed polars analysis notebook"
   ]
  },
  {
   "cell_type": "code",
   "execution_count": 356,
   "metadata": {},
   "outputs": [
    {
     "name": "stdout",
     "output_type": "stream",
     "text": [
      "1.21.1\n"
     ]
    }
   ],
   "source": [
    "import numpy as np\n",
    "from numpy.polynomial import Polynomial\n",
    "\n",
    "print(np.__version__)\n",
    "\n",
    "# https://www.geeksforgeeks.org/python-implementation-of-polynomial-regression/?ref=lbp\n",
    "# old vs new API https://numpy.org/doc/1.21/reference/routines.polynomials.html"
   ]
  },
  {
   "cell_type": "code",
   "execution_count": 357,
   "metadata": {},
   "outputs": [],
   "source": [
    "# utilities functions & constants\n",
    "\n",
    "KM_TO_MS = 3.6\t\t# factor to convert km/h in m/s\n",
    "CONVERT_TO_MS = True\n",
    "\n",
    "POLAR_CURVE_START_KM = 70\t\t# in km/h\n",
    "POLAR_CURVE_END_KM = 230\t\t# in km/h\n",
    "\n",
    "POLAR_CURVE_START = (POLAR_CURVE_START_KM / KM_TO_MS) if CONVERT_TO_MS else POLAR_CURVE_START_KM\n",
    "POLAR_CURVE_END = (POLAR_CURVE_END_KM / KM_TO_MS)if CONVERT_TO_MS else POLAR_CURVE_END_KM\n",
    "\n",
    "#POLAR_CURVE_NBR_SAMPLE = round((POLAR_CURVE_END - POLAR_CURVE_START) // 10)\n",
    "POLAR_CURVE_NBR_SAMPLE =  20\n",
    "\n",
    "def polar_to_string(p):\n",
    "\tpolar_str = '{}x<sup>2</sup>'.format(round(p.coeffs[0],4))\n",
    "\tpolar_str += (' + ' if (p.coeffs[1] >= 0 ) else ' ')\n",
    "\tpolar_str += '{}x'.format(round(p.coeffs[1],4))\n",
    "\tpolar_str += (' + ' if (p.coeffs[2] >= 0 ) else ' ')\n",
    "\tpolar_str += '{}'.format(round(p.coeffs[2],4))\n",
    "\treturn polar_str\n",
    "\n",
    "xaxis_unit = lambda x: x/ (KM_TO_MS if CONVERT_TO_MS else 1)"
   ]
  },
  {
   "cell_type": "code",
   "execution_count": 358,
   "metadata": {},
   "outputs": [],
   "source": [
    "\n",
    "## Polar data for LAK-19 18m\n",
    "import json\n",
    "glider_pdata = None\t# glider polars data\n",
    "\n",
    "# Opening JSON file\n",
    "with open('./lak19-polars-db.json') as json_file:\n",
    "\tglider_pdata = json.load(json_file)\n",
    "\n",
    "seeyouABC_data = glider_pdata['specifications']['Naviter SeeYou-2']\n",
    "manual_data = glider_pdata['specifications']['From Manual']\n",
    "iglide_data = glider_pdata['specifications']['iGlide']\n",
    "seeyou_data = glider_pdata['specifications']['Naviter SeeYou-1']"
   ]
  },
  {
   "cell_type": "code",
   "execution_count": 359,
   "metadata": {},
   "outputs": [
    {
     "name": "stdout",
     "output_type": "stream",
     "text": [
      "Polynom with legacy API is\n",
      "           2\n",
      "-0.002808 x + 0.1446 x - 2.45\n",
      "\n",
      "c1_y_polar = [-0.7        -0.63255771 -0.59584488 -0.5898615  -0.61460757 -0.6700831\n",
      " -0.75628809 -0.87322253 -1.02088643 -1.19927978 -1.40840259 -1.64825485\n",
      " -1.91883657 -2.22014774 -2.55218837 -2.91495845 -3.30845799 -3.73268698\n",
      " -4.18764543 -4.67333333]\n"
     ]
    }
   ],
   "source": [
    "\n",
    "# Data for the LAK-19 18m (from polar on the manual), wing loading 35.7 kg/m2\n",
    "# c1 curve will be the calculated polar using the 3 points method, \n",
    "# the 3 points are estimated based on the flight polar diagram of the manual, page 5.4\n",
    "\n",
    "c1_x = [xaxis_unit(x) for x in manual_data['speed']]\n",
    "#x = [100/3.6,120/3.6,150/3.6]\n",
    "c1_y = manual_data['sink_rate']\n",
    "c1_wl = manual_data['wing_loading']\n",
    "\n",
    "# New APIs\n",
    "# polar = Polynomial.fit(x, y, 2) \n",
    "# print(' polynom with new API is {}'.format(polar))\n",
    "# print(' coef. is {}, domain is {}, window is {}'.format(polar.coef,polar.domain, polar.window))\n",
    "# print(polar.convert())\n",
    "\n",
    "# Legacy APIs\n",
    "c1_polar = np.poly1d(np.polyfit(c1_x, c1_y, 2))\n",
    "print ('Polynom with legacy API is')\n",
    "print(c1_polar) \n",
    "\n",
    "c1_x_polar = np.linspace(POLAR_CURVE_START, POLAR_CURVE_END, POLAR_CURVE_NBR_SAMPLE)\n",
    "c1_y_polar = c1_polar(c1_x_polar)\n",
    "\n",
    "print('\\r\\nc1_y_polar = {}'.format(c1_y_polar))"
   ]
  },
  {
   "cell_type": "code",
   "execution_count": 360,
   "metadata": {},
   "outputs": [
    {
     "name": "stdout",
     "output_type": "stream",
     "text": [
      "Polynom with legacy API is\n",
      "      2\n",
      "1.24 x - 1.61 x + 0.97\n",
      "\n",
      "c2_y_polar = [ 438.49160494  554.31103656  683.70045552  826.65986184  983.1892555\n",
      " 1153.2886365  1336.95800486 1534.19736056 1745.0067036  1969.38603399\n",
      " 2207.33535173 2458.85465682 2723.94394925 3002.60322903 3294.83249615\n",
      " 3600.63175062 3920.00099244 4252.94022161 4599.44943812 4959.52864198]\n"
     ]
    }
   ],
   "source": [
    "# To plot Naviter Seeyou polar y = - (A * x^2 + B * x + C)\n",
    "\n",
    "#c2_polar = np.poly1d([seeyou_data[\"A\"]*-1,seeyou_data[\"B\"]*-1, seeyou_data[\"C\"]*-1 ])\n",
    "c2_polar = np.poly1d([seeyouABC_data[\"A\"],seeyouABC_data[\"B\"], seeyouABC_data[\"C\"] ])\n",
    "\n",
    "print ('Polynom with legacy API is')\n",
    "print(c2_polar) \n",
    "\n",
    "c2_x_polar = np.linspace(POLAR_CURVE_START, POLAR_CURVE_END, POLAR_CURVE_NBR_SAMPLE)\n",
    "c2_y_polar = c2_polar(c2_x_polar)\n",
    "\n",
    "print('\\r\\nc2_y_polar = {}'.format(c2_y_polar))"
   ]
  },
  {
   "cell_type": "code",
   "execution_count": 361,
   "metadata": {},
   "outputs": [
    {
     "name": "stdout",
     "output_type": "stream",
     "text": [
      "Polynomial model is\n",
      "           2\n",
      "-0.002621 x + 0.1323 x - 2.133\n",
      "\n",
      "c3_y_polar = [-0.55206231 -0.495398   -0.46741259 -0.46810606 -0.49747842 -0.55552967\n",
      " -0.64225981 -0.75766884 -0.90175676 -1.07452356 -1.27596926 -1.50609384\n",
      " -1.76489731 -2.05237967 -2.36854092 -2.71338106 -3.08690008 -3.489098\n",
      " -3.9199748  -4.3795305 ]\n"
     ]
    }
   ],
   "source": [
    "# To plot iGlide polar (3 points methods), \n",
    "\n",
    "# Fit a polynomial of degree 2 based on the 3 points iglide data\n",
    "# The c3 curve will be the calculated polar using this polynomial, \n",
    "\n",
    "c3_x = [xaxis_unit(x) for x in iglide_data['speed']]\n",
    "c3_y = iglide_data['sink_rate']\n",
    "c3_wl = iglide_data['wing_loading']\n",
    "\n",
    "# rgression polynomial\n",
    "c3_polar = np.poly1d(np.polyfit(c3_x, c3_y, 2))\n",
    "print ('Polynomial model is')\n",
    "print(c3_polar) \n",
    "\n",
    "c3_x_polar = np.linspace(POLAR_CURVE_START, POLAR_CURVE_END, POLAR_CURVE_NBR_SAMPLE)\n",
    "c3_y_polar = c3_polar(c3_x_polar)\n",
    "\n",
    "print('\\r\\nc3_y_polar = {}'.format(c3_y_polar))"
   ]
  },
  {
   "cell_type": "code",
   "execution_count": 362,
   "metadata": {},
   "outputs": [
    {
     "name": "stdout",
     "output_type": "stream",
     "text": [
      "Polynomial model is\n",
      "           2\n",
      "-0.001642 x + 0.06072 x - 1.02\n",
      "\n",
      "c3_y_polar = [-0.46       -0.4762807  -0.51052632 -0.56273684 -0.63291228 -0.72105263\n",
      " -0.82715789 -0.95122807 -1.09326316 -1.25326316 -1.43122807 -1.62715789\n",
      " -1.84105263 -2.07291228 -2.32273684 -2.59052632 -2.8762807  -3.18\n",
      " -3.50168421 -3.84133333]\n"
     ]
    }
   ],
   "source": [
    "# To plot Seeyou polar (3 points methods), \n",
    "\n",
    "# Fit a polynomial of degree 2 based on the 3 points SeeYou data\n",
    "# The c4 curve will be the calculated polar using this polynomial, \n",
    "\n",
    "c4_x = [xaxis_unit(x) for x in seeyou_data['speed']]\n",
    "c4_y = seeyou_data['sink_rate']\n",
    "c4_wl = seeyou_data['wing_loading']\n",
    "\n",
    "# rgression polynomial\n",
    "c4_polar = np.poly1d(np.polyfit(c4_x, c4_y, 2))\n",
    "print ('Polynomial model is')\n",
    "print(c4_polar) \n",
    "\n",
    "c4_x_polar = np.linspace(POLAR_CURVE_START, POLAR_CURVE_END, POLAR_CURVE_NBR_SAMPLE)\n",
    "c4_y_polar = c4_polar(c4_x_polar)\n",
    "\n",
    "print('\\r\\nc3_y_polar = {}'.format(c4_y_polar))"
   ]
  },
  {
   "cell_type": "code",
   "execution_count": 363,
   "metadata": {},
   "outputs": [
    {
     "data": {
      "application/vnd.plotly.v1+json": {
       "config": {
        "plotlyServerURL": "https://plot.ly"
       },
       "data": [
        {
         "hoverinfo": "x+y+text",
         "hovertemplate": "<extra></extra><b>%{text}</b><br>Speed: %{x}km/h<br>Sink rate: %{y}m/s",
         "mode": "markers",
         "name": "A, B, C points",
         "text": [
          "Point A",
          "Point B",
          "Point C"
         ],
         "type": "scatter",
         "x": [
          27.77777777777778,
          33.333333333333336,
          41.666666666666664
         ],
         "y": [
          -0.6,
          -0.75,
          -1.3
         ]
        },
        {
         "hoverinfo": "x+y",
         "hovertemplate": "<extra></extra>Speed: %{x:.0f}km/h<br>Sink rate: %{y:.2f}m/s",
         "mode": "lines",
         "name": "Manual (wing loading: 35.7 kg/m<sup>2</sup>)",
         "type": "scatter",
         "x": [
          19.444444444444443,
          21.78362573099415,
          24.122807017543856,
          26.461988304093566,
          28.801169590643273,
          31.14035087719298,
          33.47953216374269,
          35.81871345029239,
          38.1578947368421,
          40.49707602339181,
          42.836257309941516,
          45.175438596491226,
          47.514619883040936,
          49.85380116959064,
          52.19298245614035,
          54.53216374269005,
          56.87134502923976,
          59.21052631578947,
          61.549707602339176,
          63.888888888888886
         ],
         "y": [
          -0.7000000000000031,
          -0.6325577100646371,
          -0.5958448753462615,
          -0.5898614958448756,
          -0.61460757156048,
          -0.670083102493074,
          -0.7562880886426584,
          -0.8732225300092327,
          -1.020886426592797,
          -1.1992797783933515,
          -1.408402585410896,
          -1.64825484764543,
          -1.9188365650969552,
          -2.2201477377654695,
          -2.5521883656509736,
          -2.9149584487534677,
          -3.3084579870729534,
          -3.7326869806094276,
          -4.187645429362892,
          -4.673333333333348
         ]
        },
        {
         "hoverinfo": "x+y",
         "hovertemplate": "<extra></extra>Speed: %{x:.0f}km/h<br>Sink rate: %{y:.2f}m/s",
         "mode": "lines",
         "name": "SeeYou ABC (wing loading: 35.7 kg/m<sup>2</sup>)",
         "type": "scatter",
         "x": [
          19.444444444444443,
          21.78362573099415,
          24.122807017543856,
          26.461988304093566,
          28.801169590643273,
          31.14035087719298,
          33.47953216374269,
          35.81871345029239,
          38.1578947368421,
          40.49707602339181,
          42.836257309941516,
          45.175438596491226,
          47.514619883040936,
          49.85380116959064,
          52.19298245614035,
          54.53216374269005,
          56.87134502923976,
          59.21052631578947,
          61.549707602339176,
          63.888888888888886
         ],
         "y": [
          438.4916049382716,
          554.3110365582571,
          683.7004555247767,
          826.6598618378305,
          983.189255497418,
          1153.2886365035395,
          1336.9580048561952,
          1534.197360555384,
          1745.0067036011078,
          1969.3860339933656,
          2207.335351732156,
          2458.854656817482,
          2723.9439492493416,
          3002.6032290277344,
          3294.832496152662,
          3600.6317506241226,
          3920.0009924421183,
          4252.940221606648,
          4599.449438117711,
          4959.528641975308
         ]
        },
        {
         "hoverinfo": "x+y",
         "hovertemplate": "<extra></extra>Speed: %{x:.0f}km/h<br>Sink rate: %{y:.2f}m/s",
         "line": {
          "dash": "dash"
         },
         "mode": "lines",
         "name": "iGlide (wing loading: 30.1 kg/m<sup>2</sup>)",
         "type": "scatter",
         "x": [
          19.444444444444443,
          21.78362573099415,
          24.122807017543856,
          26.461988304093566,
          28.801169590643273,
          31.14035087719298,
          33.47953216374269,
          35.81871345029239,
          38.1578947368421,
          40.49707602339181,
          42.836257309941516,
          45.175438596491226,
          47.514619883040936,
          49.85380116959064,
          52.19298245614035,
          54.53216374269005,
          56.87134502923976,
          59.21052631578947,
          61.549707602339176,
          63.888888888888886
         ],
         "y": [
          -0.5520623080298734,
          -0.49539800344957086,
          -0.4674125876109483,
          -0.46810606051400616,
          -0.49747842215874427,
          -0.5555296725451622,
          -0.6422598116732603,
          -0.7576688395430384,
          -0.9017567561544972,
          -1.0745235615076365,
          -1.275969255602455,
          -1.506093838438954,
          -1.7648973100171337,
          -2.0523796703369923,
          -2.3685409193985327,
          -2.713381057201752,
          -3.0869000837466523,
          -3.489097999033233,
          -3.9199748030614927,
          -4.379530495831432
         ]
        },
        {
         "hoverinfo": "x+y",
         "hovertemplate": "<extra></extra>Speed: %{x:.0f}km/h<br>Sink rate: %{y:.2f}m/s",
         "line": {
          "dash": "dash"
         },
         "mode": "lines",
         "name": "SeeYou (wing loading: 31.5 kg/m<sup>2</sup>)",
         "type": "scatter",
         "x": [
          19.444444444444443,
          21.78362573099415,
          24.122807017543856,
          26.461988304093566,
          28.801169590643273,
          31.14035087719298,
          33.47953216374269,
          35.81871345029239,
          38.1578947368421,
          40.49707602339181,
          42.836257309941516,
          45.175438596491226,
          47.514619883040936,
          49.85380116959064,
          52.19298245614035,
          54.53216374269005,
          56.87134502923976,
          59.21052631578947,
          61.549707602339176,
          63.888888888888886
         ],
         "y": [
          -0.4600000000000005,
          -0.47628070175438586,
          -0.5105263157894732,
          -0.5627368421052623,
          -0.6329122807017531,
          -0.7210526315789458,
          -0.8271578947368408,
          -0.9512280701754369,
          -1.0932631578947354,
          -1.2532631578947355,
          -1.4312280701754372,
          -1.627157894736841,
          -1.8410526315789477,
          -2.072912280701755,
          -2.3227368421052645,
          -2.590526315789475,
          -2.8762807017543883,
          -3.1800000000000033,
          -3.50168421052632,
          -3.8413333333333384
         ]
        }
       ],
       "layout": {
        "annotations": [
         {
          "showarrow": false,
          "text": "Polar: -0.0028x<sup>2</sup> + 0.1446x -2.45",
          "x": 13.88888888888889,
          "y": -2.75
         }
        ],
        "height": 600,
        "template": {
         "data": {
          "bar": [
           {
            "error_x": {
             "color": "rgb(51,51,51)"
            },
            "error_y": {
             "color": "rgb(51,51,51)"
            },
            "marker": {
             "line": {
              "color": "rgb(237,237,237)",
              "width": 0.5
             },
             "pattern": {
              "fillmode": "overlay",
              "size": 10,
              "solidity": 0.2
             }
            },
            "type": "bar"
           }
          ],
          "barpolar": [
           {
            "marker": {
             "line": {
              "color": "rgb(237,237,237)",
              "width": 0.5
             },
             "pattern": {
              "fillmode": "overlay",
              "size": 10,
              "solidity": 0.2
             }
            },
            "type": "barpolar"
           }
          ],
          "carpet": [
           {
            "aaxis": {
             "endlinecolor": "rgb(51,51,51)",
             "gridcolor": "white",
             "linecolor": "white",
             "minorgridcolor": "white",
             "startlinecolor": "rgb(51,51,51)"
            },
            "baxis": {
             "endlinecolor": "rgb(51,51,51)",
             "gridcolor": "white",
             "linecolor": "white",
             "minorgridcolor": "white",
             "startlinecolor": "rgb(51,51,51)"
            },
            "type": "carpet"
           }
          ],
          "choropleth": [
           {
            "colorbar": {
             "outlinewidth": 0,
             "tickcolor": "rgb(237,237,237)",
             "ticklen": 6,
             "ticks": "inside"
            },
            "type": "choropleth"
           }
          ],
          "contour": [
           {
            "colorbar": {
             "outlinewidth": 0,
             "tickcolor": "rgb(237,237,237)",
             "ticklen": 6,
             "ticks": "inside"
            },
            "colorscale": [
             [
              0,
              "rgb(20,44,66)"
             ],
             [
              1,
              "rgb(90,179,244)"
             ]
            ],
            "type": "contour"
           }
          ],
          "contourcarpet": [
           {
            "colorbar": {
             "outlinewidth": 0,
             "tickcolor": "rgb(237,237,237)",
             "ticklen": 6,
             "ticks": "inside"
            },
            "type": "contourcarpet"
           }
          ],
          "heatmap": [
           {
            "colorbar": {
             "outlinewidth": 0,
             "tickcolor": "rgb(237,237,237)",
             "ticklen": 6,
             "ticks": "inside"
            },
            "colorscale": [
             [
              0,
              "rgb(20,44,66)"
             ],
             [
              1,
              "rgb(90,179,244)"
             ]
            ],
            "type": "heatmap"
           }
          ],
          "heatmapgl": [
           {
            "colorbar": {
             "outlinewidth": 0,
             "tickcolor": "rgb(237,237,237)",
             "ticklen": 6,
             "ticks": "inside"
            },
            "colorscale": [
             [
              0,
              "rgb(20,44,66)"
             ],
             [
              1,
              "rgb(90,179,244)"
             ]
            ],
            "type": "heatmapgl"
           }
          ],
          "histogram": [
           {
            "marker": {
             "pattern": {
              "fillmode": "overlay",
              "size": 10,
              "solidity": 0.2
             }
            },
            "type": "histogram"
           }
          ],
          "histogram2d": [
           {
            "colorbar": {
             "outlinewidth": 0,
             "tickcolor": "rgb(237,237,237)",
             "ticklen": 6,
             "ticks": "inside"
            },
            "colorscale": [
             [
              0,
              "rgb(20,44,66)"
             ],
             [
              1,
              "rgb(90,179,244)"
             ]
            ],
            "type": "histogram2d"
           }
          ],
          "histogram2dcontour": [
           {
            "colorbar": {
             "outlinewidth": 0,
             "tickcolor": "rgb(237,237,237)",
             "ticklen": 6,
             "ticks": "inside"
            },
            "colorscale": [
             [
              0,
              "rgb(20,44,66)"
             ],
             [
              1,
              "rgb(90,179,244)"
             ]
            ],
            "type": "histogram2dcontour"
           }
          ],
          "mesh3d": [
           {
            "colorbar": {
             "outlinewidth": 0,
             "tickcolor": "rgb(237,237,237)",
             "ticklen": 6,
             "ticks": "inside"
            },
            "type": "mesh3d"
           }
          ],
          "parcoords": [
           {
            "line": {
             "colorbar": {
              "outlinewidth": 0,
              "tickcolor": "rgb(237,237,237)",
              "ticklen": 6,
              "ticks": "inside"
             }
            },
            "type": "parcoords"
           }
          ],
          "pie": [
           {
            "automargin": true,
            "type": "pie"
           }
          ],
          "scatter": [
           {
            "fillpattern": {
             "fillmode": "overlay",
             "size": 10,
             "solidity": 0.2
            },
            "type": "scatter"
           }
          ],
          "scatter3d": [
           {
            "line": {
             "colorbar": {
              "outlinewidth": 0,
              "tickcolor": "rgb(237,237,237)",
              "ticklen": 6,
              "ticks": "inside"
             }
            },
            "marker": {
             "colorbar": {
              "outlinewidth": 0,
              "tickcolor": "rgb(237,237,237)",
              "ticklen": 6,
              "ticks": "inside"
             }
            },
            "type": "scatter3d"
           }
          ],
          "scattercarpet": [
           {
            "marker": {
             "colorbar": {
              "outlinewidth": 0,
              "tickcolor": "rgb(237,237,237)",
              "ticklen": 6,
              "ticks": "inside"
             }
            },
            "type": "scattercarpet"
           }
          ],
          "scattergeo": [
           {
            "marker": {
             "colorbar": {
              "outlinewidth": 0,
              "tickcolor": "rgb(237,237,237)",
              "ticklen": 6,
              "ticks": "inside"
             }
            },
            "type": "scattergeo"
           }
          ],
          "scattergl": [
           {
            "marker": {
             "colorbar": {
              "outlinewidth": 0,
              "tickcolor": "rgb(237,237,237)",
              "ticklen": 6,
              "ticks": "inside"
             }
            },
            "type": "scattergl"
           }
          ],
          "scattermapbox": [
           {
            "marker": {
             "colorbar": {
              "outlinewidth": 0,
              "tickcolor": "rgb(237,237,237)",
              "ticklen": 6,
              "ticks": "inside"
             }
            },
            "type": "scattermapbox"
           }
          ],
          "scatterpolar": [
           {
            "marker": {
             "colorbar": {
              "outlinewidth": 0,
              "tickcolor": "rgb(237,237,237)",
              "ticklen": 6,
              "ticks": "inside"
             }
            },
            "type": "scatterpolar"
           }
          ],
          "scatterpolargl": [
           {
            "marker": {
             "colorbar": {
              "outlinewidth": 0,
              "tickcolor": "rgb(237,237,237)",
              "ticklen": 6,
              "ticks": "inside"
             }
            },
            "type": "scatterpolargl"
           }
          ],
          "scatterternary": [
           {
            "marker": {
             "colorbar": {
              "outlinewidth": 0,
              "tickcolor": "rgb(237,237,237)",
              "ticklen": 6,
              "ticks": "inside"
             }
            },
            "type": "scatterternary"
           }
          ],
          "surface": [
           {
            "colorbar": {
             "outlinewidth": 0,
             "tickcolor": "rgb(237,237,237)",
             "ticklen": 6,
             "ticks": "inside"
            },
            "colorscale": [
             [
              0,
              "rgb(20,44,66)"
             ],
             [
              1,
              "rgb(90,179,244)"
             ]
            ],
            "type": "surface"
           }
          ],
          "table": [
           {
            "cells": {
             "fill": {
              "color": "rgb(237,237,237)"
             },
             "line": {
              "color": "white"
             }
            },
            "header": {
             "fill": {
              "color": "rgb(217,217,217)"
             },
             "line": {
              "color": "white"
             }
            },
            "type": "table"
           }
          ]
         },
         "layout": {
          "annotationdefaults": {
           "arrowhead": 0,
           "arrowwidth": 1
          },
          "autotypenumbers": "strict",
          "coloraxis": {
           "colorbar": {
            "outlinewidth": 0,
            "tickcolor": "rgb(237,237,237)",
            "ticklen": 6,
            "ticks": "inside"
           }
          },
          "colorscale": {
           "sequential": [
            [
             0,
             "rgb(20,44,66)"
            ],
            [
             1,
             "rgb(90,179,244)"
            ]
           ],
           "sequentialminus": [
            [
             0,
             "rgb(20,44,66)"
            ],
            [
             1,
             "rgb(90,179,244)"
            ]
           ]
          },
          "colorway": [
           "#F8766D",
           "#A3A500",
           "#00BF7D",
           "#00B0F6",
           "#E76BF3"
          ],
          "font": {
           "color": "rgb(51,51,51)"
          },
          "geo": {
           "bgcolor": "white",
           "lakecolor": "white",
           "landcolor": "rgb(237,237,237)",
           "showlakes": true,
           "showland": true,
           "subunitcolor": "white"
          },
          "hoverlabel": {
           "align": "left"
          },
          "hovermode": "closest",
          "paper_bgcolor": "white",
          "plot_bgcolor": "rgb(237,237,237)",
          "polar": {
           "angularaxis": {
            "gridcolor": "white",
            "linecolor": "white",
            "showgrid": true,
            "tickcolor": "rgb(51,51,51)",
            "ticks": "outside"
           },
           "bgcolor": "rgb(237,237,237)",
           "radialaxis": {
            "gridcolor": "white",
            "linecolor": "white",
            "showgrid": true,
            "tickcolor": "rgb(51,51,51)",
            "ticks": "outside"
           }
          },
          "scene": {
           "xaxis": {
            "backgroundcolor": "rgb(237,237,237)",
            "gridcolor": "white",
            "gridwidth": 2,
            "linecolor": "white",
            "showbackground": true,
            "showgrid": true,
            "tickcolor": "rgb(51,51,51)",
            "ticks": "outside",
            "zerolinecolor": "white"
           },
           "yaxis": {
            "backgroundcolor": "rgb(237,237,237)",
            "gridcolor": "white",
            "gridwidth": 2,
            "linecolor": "white",
            "showbackground": true,
            "showgrid": true,
            "tickcolor": "rgb(51,51,51)",
            "ticks": "outside",
            "zerolinecolor": "white"
           },
           "zaxis": {
            "backgroundcolor": "rgb(237,237,237)",
            "gridcolor": "white",
            "gridwidth": 2,
            "linecolor": "white",
            "showbackground": true,
            "showgrid": true,
            "tickcolor": "rgb(51,51,51)",
            "ticks": "outside",
            "zerolinecolor": "white"
           }
          },
          "shapedefaults": {
           "fillcolor": "black",
           "line": {
            "width": 0
           },
           "opacity": 0.3
          },
          "ternary": {
           "aaxis": {
            "gridcolor": "white",
            "linecolor": "white",
            "showgrid": true,
            "tickcolor": "rgb(51,51,51)",
            "ticks": "outside"
           },
           "baxis": {
            "gridcolor": "white",
            "linecolor": "white",
            "showgrid": true,
            "tickcolor": "rgb(51,51,51)",
            "ticks": "outside"
           },
           "bgcolor": "rgb(237,237,237)",
           "caxis": {
            "gridcolor": "white",
            "linecolor": "white",
            "showgrid": true,
            "tickcolor": "rgb(51,51,51)",
            "ticks": "outside"
           }
          },
          "xaxis": {
           "automargin": true,
           "gridcolor": "white",
           "linecolor": "white",
           "showgrid": true,
           "tickcolor": "rgb(51,51,51)",
           "ticks": "outside",
           "title": {
            "standoff": 15
           },
           "zerolinecolor": "white"
          },
          "yaxis": {
           "automargin": true,
           "gridcolor": "white",
           "linecolor": "white",
           "showgrid": true,
           "tickcolor": "rgb(51,51,51)",
           "ticks": "outside",
           "title": {
            "standoff": 15
           },
           "zerolinecolor": "white"
          }
         }
        },
        "title": {
         "text": "<b>LAK19-18m  - Speed polars analysis</b>"
        },
        "xaxis": {
         "range": [
          0,
          76.66666666666666
         ],
         "title": {
          "font": {
           "color": "crimson",
           "family": "Courier",
           "size": 14
          },
          "text": "Vitesse (m/s)"
         },
         "zeroline": true,
         "zerolinecolor": "black",
         "zerolinewidth": 1
        },
        "yaxis": {
         "dtick": 0.5,
         "range": [
          -4,
          1
         ],
         "title": {
          "font": {
           "color": "crimson",
           "family": "Courier",
           "size": 14
          },
          "text": "Vz (m/s)"
         },
         "zeroline": true,
         "zerolinecolor": "black",
         "zerolinewidth": 1
        }
       }
      }
     },
     "metadata": {},
     "output_type": "display_data"
    }
   ],
   "source": [
    "# Display the graph\n",
    "# https://plotly.com/python/plotly-fundamentals/\n",
    "# https://plotly.com/python-api-reference/\n",
    "\n",
    "import plotly.graph_objects as go\n",
    "\n",
    "trace1 = go.Scatter( x=c1_x, y=c1_y, mode='markers', name='A, B, C points', \n",
    "\ttext=['Point A', 'Point B', 'Point C'], hovertemplate='<extra></extra><b>%{text}</b><br>Speed: %{x}km/h<br>Sink rate: %{y}m/s', hoverinfo='x+y+text')\n",
    "\t\n",
    "trace2 = go.Scatter( x=c1_x_polar, y=c1_y_polar, mode='lines', name='Manual (wing loading: {} kg/m<sup>2</sup>)'.format(c1_wl),\n",
    "\t\thovertemplate='<extra></extra>Speed: %{x:.0f}km/h<br>Sink rate: %{y:.2f}m/s', hoverinfo='x+y')\n",
    "\n",
    "trace3 = go.Scatter( x=c2_x_polar, y=c2_y_polar, mode='lines', name='SeeYou ABC (wing loading: {} kg/m<sup>2</sup>)'.format(c1_wl),\n",
    "\t\thovertemplate='<extra></extra>Speed: %{x:.0f}km/h<br>Sink rate: %{y:.2f}m/s', hoverinfo='x+y')\n",
    "\n",
    "trace4 = go.Scatter( x=c3_x_polar, y=c3_y_polar, mode='lines', name='iGlide (wing loading: {} kg/m<sup>2</sup>)'.format(c3_wl), line = dict(dash='dash'),\n",
    "\t\thovertemplate='<extra></extra>Speed: %{x:.0f}km/h<br>Sink rate: %{y:.2f}m/s', hoverinfo='x+y')\n",
    "\n",
    "trace5 = go.Scatter( x=c4_x_polar, y=c4_y_polar, mode='lines', name='SeeYou (wing loading: {} kg/m<sup>2</sup>)'.format(c4_wl), line = dict(dash='dash'),\n",
    "\t\thovertemplate='<extra></extra>Speed: %{x:.0f}km/h<br>Sink rate: %{y:.2f}m/s', hoverinfo='x+y')\n",
    "\n",
    "layout = go.Layout(\n",
    "\t\ttitle_text='<b>{}  - Speed polars analysis</b>'.format(glider_pdata['glider']),\n",
    "\t\theight=600,\n",
    "\t\tyaxis=dict(range=[-4, 1]),\n",
    "\t\ttemplate='ggplot2',\n",
    "\t)\n",
    "\n",
    "data = [trace1, trace2, trace3, trace4, trace5]\n",
    "fig = go.Figure(data=data, layout=layout)\n",
    "\n",
    "fig.update_yaxes(zeroline=True, zerolinewidth=1, zerolinecolor='black',  dtick=0.5)\n",
    "fig.update_yaxes(title_text='Vz (m/s)', title_font=dict(size=14, family='Courier', color='crimson'))\n",
    "\n",
    "fig.update_xaxes(zeroline=True, zerolinewidth=1, zerolinecolor='black')\n",
    "fig.update_xaxes(title_text='Vitesse ({})'.format(( 'm/s' if CONVERT_TO_MS else 'km/h')),\n",
    "\t title_font=dict(size=14, family='Courier', color='crimson'))\n",
    "\n",
    "fig.add_annotation(x=xaxis_unit(50), y=-2.75, text='Polar: {}'.format( polar_to_string(c1_polar)), showarrow=False)\n",
    "\n",
    "fig.update_layout(xaxis_range=[0,max(c1_x_polar)*1.2])\n",
    "\n",
    "fig.show()"
   ]
  }
 ],
 "metadata": {
  "kernelspec": {
   "display_name": "Python 3",
   "language": "python",
   "name": "python3"
  },
  "language_info": {
   "codemirror_mode": {
    "name": "ipython",
    "version": 3
   },
   "file_extension": ".py",
   "mimetype": "text/x-python",
   "name": "python",
   "nbconvert_exporter": "python",
   "pygments_lexer": "ipython3",
   "version": "3.9.16"
  },
  "orig_nbformat": 4,
  "vscode": {
   "interpreter": {
    "hash": "397704579725e15f5c7cb49fe5f0341eb7531c82d19f2c29d197e8b64ab5776b"
   }
  }
 },
 "nbformat": 4,
 "nbformat_minor": 2
}
