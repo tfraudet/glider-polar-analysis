{
 "cells": [
  {
   "cell_type": "code",
   "execution_count": 1,
   "metadata": {},
   "outputs": [
    {
     "name": "stdout",
     "output_type": "stream",
     "text": [
      "1.21.1\n",
      "[-2.16666667e-04  4.01666667e-02 -2.45000000e+00]\n",
      "Polynom with legacy API is\n",
      "            2\n",
      "-0.0002167 x + 0.04017 x - 2.45\n"
     ]
    }
   ],
   "source": [
    "import numpy as np\n",
    "from numpy.polynomial import Polynomial\n",
    "\n",
    "print(np.__version__)\n",
    "\n",
    "# Data for the LAK-19 18m (from polar on the manual), wing loading 35.7 kg/m^2\n",
    "x = [100,120,150]\n",
    "#x = [100/3.6,120/3.6,150/3.6]\n",
    "y = [-0.6, -0.75, -1.3]\n",
    "wing_area = 9.8\n",
    "\n",
    "# compute the polar, 3 points methods\n",
    "# old vs new API https://numpy.org/doc/1.21/reference/routines.polynomials.html\n",
    "\n",
    "# New APIs\n",
    "# polar = Polynomial.fit(x, y, 2) \n",
    "# print(' polynom with new API is {}'.format(polar))\n",
    "# print(' coef. is {}, domain is {}, window is {}'.format(polar.coef,polar.domain, polar.window))\n",
    "# print(polar.convert())\n",
    "\n",
    "# Legacy APIs\n",
    "polynom_coef = np.polyfit(x, y, 2)\n",
    "print(polynom_coef)\n",
    "polar = np.poly1d(polynom_coef)\n",
    "print ('Polynom with legacy API is')\n",
    "print(polar) "
   ]
  },
  {
   "cell_type": "code",
   "execution_count": 2,
   "metadata": {},
   "outputs": [],
   "source": [
    "# https://www.geeksforgeeks.org/python-implementation-of-polynomial-regression/?ref=lbp"
   ]
  },
  {
   "cell_type": "code",
   "execution_count": 3,
   "metadata": {},
   "outputs": [],
   "source": [
    "# compute the polar points to fit the diagram\n",
    "x_polar = np.linspace(x[0]- x[0]*.2, x[-1] + x[-1]*.8, 50)\n",
    "y_polar = polar(x_polar)\n"
   ]
  },
  {
   "cell_type": "code",
   "execution_count": 4,
   "metadata": {},
   "outputs": [],
   "source": [
    "def polar_to_string(p):\n",
    "\tpolar_str = '{}x^2'.format(round(p[0],4))\n",
    "\tif (polynom_coef[1] >= 0 ):\n",
    "\t\tpolar_str = polar_str + ' + '\n",
    "\telse:\n",
    "\t\tpolar_str = polar_str + ' '\n",
    "\tpolar_str = polar_str + '{}x'.format(round(p[1],4))\n",
    "\tif (polynom_coef[2] >= 0 ):\n",
    "\t\tpolar_str = polar_str + ' + '\n",
    "\telse:\n",
    "\t\tpolar_str = polar_str + ' '\n",
    "\tpolar_str = polar_str + '{}'.format(round(p[2],4))\n",
    "\treturn polar_str"
   ]
  },
  {
   "cell_type": "code",
   "execution_count": 5,
   "metadata": {},
   "outputs": [
    {
     "name": "stderr",
     "output_type": "stream",
     "text": [
      "/usr/local/lib/python3.9/site-packages/plotly/graph_objs/_deprecations.py:434: DeprecationWarning: plotly.graph_objs.Marker is deprecated.\n",
      "Please replace it with one of the following more specific types\n",
      "  - plotly.graph_objs.scatter.Marker\n",
      "  - plotly.graph_objs.histogram.selected.Marker\n",
      "  - etc.\n",
      "\n",
      "  warnings.warn(\n"
     ]
    },
    {
     "data": {
      "application/vnd.plotly.v1+json": {
       "config": {
        "plotlyServerURL": "https://plot.ly"
       },
       "data": [
        {
         "marker": {
          "color": "rgb(255, 127, 14)"
         },
         "mode": "markers",
         "name": "A, B, C points",
         "type": "scatter",
         "x": [
          100,
          120,
          150
         ],
         "y": [
          -0.6,
          -0.75,
          -1.3
         ]
        },
        {
         "marker": {
          "color": "rgb(31, 119, 180)"
         },
         "mode": "lines",
         "name": "polar",
         "type": "scatter",
         "x": [
          80,
          83.87755102040816,
          87.75510204081633,
          91.63265306122449,
          95.51020408163265,
          99.38775510204081,
          103.26530612244898,
          107.14285714285714,
          111.0204081632653,
          114.89795918367346,
          118.77551020408163,
          122.65306122448979,
          126.53061224489795,
          130.40816326530611,
          134.28571428571428,
          138.16326530612244,
          142.0408163265306,
          145.9183673469388,
          149.79591836734693,
          153.67346938775512,
          157.55102040816325,
          161.42857142857144,
          165.30612244897958,
          169.18367346938777,
          173.0612244897959,
          176.9387755102041,
          180.81632653061223,
          184.69387755102042,
          188.57142857142856,
          192.44897959183675,
          196.32653061224488,
          200.20408163265307,
          204.0816326530612,
          207.9591836734694,
          211.83673469387756,
          215.71428571428572,
          219.59183673469389,
          223.46938775510205,
          227.3469387755102,
          231.22448979591837,
          235.10204081632654,
          238.9795918367347,
          242.85714285714286,
          246.73469387755102,
          250.6122448979592,
          254.48979591836735,
          258.36734693877554,
          262.2448979591837,
          266.1224489795918,
          270
         ],
         "y": [
          -0.6233333333333317,
          -0.605264473136192,
          -0.5937109537692618,
          -0.5886727752325414,
          -0.5901499375260302,
          -0.5981424406497289,
          -0.612650284603637,
          -0.633673469387755,
          -0.6612119950020823,
          -0.6952658614466196,
          -0.735835068721366,
          -0.7829196168263224,
          -0.8365195057614883,
          -0.8966347355268638,
          -0.9632653061224488,
          -1.0364112175482438,
          -1.116072469804248,
          -1.2022490628904623,
          -1.2949409968068848,
          -1.3941482715535196,
          -1.4998708871303612,
          -1.6121088435374142,
          -1.7308621407746752,
          -1.8561307788421488,
          -1.9879147577398286,
          -2.1262140774677203,
          -2.2710287380258194,
          -2.4223587394141304,
          -2.5802040816326497,
          -2.74456476468138,
          -2.915440788560317,
          -3.0928321532694665,
          -3.2767388588088244,
          -3.4671609051783934,
          -3.66409829237817,
          -3.8675510204081567,
          -4.077519089268355,
          -4.29400249895876,
          -4.517001249479376,
          -4.746515340830201,
          -4.982544773011235,
          -5.225089546022481,
          -5.474149659863935,
          -5.729725114535599,
          -5.991815910037472,
          -6.2604220463695555,
          -6.535543523531851,
          -6.817180341524351,
          -7.105332500347059,
          -7.399999999999984
         ]
        }
       ],
       "layout": {
        "annotations": [
         {
          "showarrow": false,
          "text": "Polar: -2.45x^2 + 0.0402x -0.0002",
          "x": 50,
          "y": -3.5
         }
        ],
        "plot_bgcolor": "rgb(229, 229, 229)",
        "template": {
         "data": {
          "bar": [
           {
            "error_x": {
             "color": "#2a3f5f"
            },
            "error_y": {
             "color": "#2a3f5f"
            },
            "marker": {
             "line": {
              "color": "#E5ECF6",
              "width": 0.5
             },
             "pattern": {
              "fillmode": "overlay",
              "size": 10,
              "solidity": 0.2
             }
            },
            "type": "bar"
           }
          ],
          "barpolar": [
           {
            "marker": {
             "line": {
              "color": "#E5ECF6",
              "width": 0.5
             },
             "pattern": {
              "fillmode": "overlay",
              "size": 10,
              "solidity": 0.2
             }
            },
            "type": "barpolar"
           }
          ],
          "carpet": [
           {
            "aaxis": {
             "endlinecolor": "#2a3f5f",
             "gridcolor": "white",
             "linecolor": "white",
             "minorgridcolor": "white",
             "startlinecolor": "#2a3f5f"
            },
            "baxis": {
             "endlinecolor": "#2a3f5f",
             "gridcolor": "white",
             "linecolor": "white",
             "minorgridcolor": "white",
             "startlinecolor": "#2a3f5f"
            },
            "type": "carpet"
           }
          ],
          "choropleth": [
           {
            "colorbar": {
             "outlinewidth": 0,
             "ticks": ""
            },
            "type": "choropleth"
           }
          ],
          "contour": [
           {
            "colorbar": {
             "outlinewidth": 0,
             "ticks": ""
            },
            "colorscale": [
             [
              0,
              "#0d0887"
             ],
             [
              0.1111111111111111,
              "#46039f"
             ],
             [
              0.2222222222222222,
              "#7201a8"
             ],
             [
              0.3333333333333333,
              "#9c179e"
             ],
             [
              0.4444444444444444,
              "#bd3786"
             ],
             [
              0.5555555555555556,
              "#d8576b"
             ],
             [
              0.6666666666666666,
              "#ed7953"
             ],
             [
              0.7777777777777778,
              "#fb9f3a"
             ],
             [
              0.8888888888888888,
              "#fdca26"
             ],
             [
              1,
              "#f0f921"
             ]
            ],
            "type": "contour"
           }
          ],
          "contourcarpet": [
           {
            "colorbar": {
             "outlinewidth": 0,
             "ticks": ""
            },
            "type": "contourcarpet"
           }
          ],
          "heatmap": [
           {
            "colorbar": {
             "outlinewidth": 0,
             "ticks": ""
            },
            "colorscale": [
             [
              0,
              "#0d0887"
             ],
             [
              0.1111111111111111,
              "#46039f"
             ],
             [
              0.2222222222222222,
              "#7201a8"
             ],
             [
              0.3333333333333333,
              "#9c179e"
             ],
             [
              0.4444444444444444,
              "#bd3786"
             ],
             [
              0.5555555555555556,
              "#d8576b"
             ],
             [
              0.6666666666666666,
              "#ed7953"
             ],
             [
              0.7777777777777778,
              "#fb9f3a"
             ],
             [
              0.8888888888888888,
              "#fdca26"
             ],
             [
              1,
              "#f0f921"
             ]
            ],
            "type": "heatmap"
           }
          ],
          "heatmapgl": [
           {
            "colorbar": {
             "outlinewidth": 0,
             "ticks": ""
            },
            "colorscale": [
             [
              0,
              "#0d0887"
             ],
             [
              0.1111111111111111,
              "#46039f"
             ],
             [
              0.2222222222222222,
              "#7201a8"
             ],
             [
              0.3333333333333333,
              "#9c179e"
             ],
             [
              0.4444444444444444,
              "#bd3786"
             ],
             [
              0.5555555555555556,
              "#d8576b"
             ],
             [
              0.6666666666666666,
              "#ed7953"
             ],
             [
              0.7777777777777778,
              "#fb9f3a"
             ],
             [
              0.8888888888888888,
              "#fdca26"
             ],
             [
              1,
              "#f0f921"
             ]
            ],
            "type": "heatmapgl"
           }
          ],
          "histogram": [
           {
            "marker": {
             "pattern": {
              "fillmode": "overlay",
              "size": 10,
              "solidity": 0.2
             }
            },
            "type": "histogram"
           }
          ],
          "histogram2d": [
           {
            "colorbar": {
             "outlinewidth": 0,
             "ticks": ""
            },
            "colorscale": [
             [
              0,
              "#0d0887"
             ],
             [
              0.1111111111111111,
              "#46039f"
             ],
             [
              0.2222222222222222,
              "#7201a8"
             ],
             [
              0.3333333333333333,
              "#9c179e"
             ],
             [
              0.4444444444444444,
              "#bd3786"
             ],
             [
              0.5555555555555556,
              "#d8576b"
             ],
             [
              0.6666666666666666,
              "#ed7953"
             ],
             [
              0.7777777777777778,
              "#fb9f3a"
             ],
             [
              0.8888888888888888,
              "#fdca26"
             ],
             [
              1,
              "#f0f921"
             ]
            ],
            "type": "histogram2d"
           }
          ],
          "histogram2dcontour": [
           {
            "colorbar": {
             "outlinewidth": 0,
             "ticks": ""
            },
            "colorscale": [
             [
              0,
              "#0d0887"
             ],
             [
              0.1111111111111111,
              "#46039f"
             ],
             [
              0.2222222222222222,
              "#7201a8"
             ],
             [
              0.3333333333333333,
              "#9c179e"
             ],
             [
              0.4444444444444444,
              "#bd3786"
             ],
             [
              0.5555555555555556,
              "#d8576b"
             ],
             [
              0.6666666666666666,
              "#ed7953"
             ],
             [
              0.7777777777777778,
              "#fb9f3a"
             ],
             [
              0.8888888888888888,
              "#fdca26"
             ],
             [
              1,
              "#f0f921"
             ]
            ],
            "type": "histogram2dcontour"
           }
          ],
          "mesh3d": [
           {
            "colorbar": {
             "outlinewidth": 0,
             "ticks": ""
            },
            "type": "mesh3d"
           }
          ],
          "parcoords": [
           {
            "line": {
             "colorbar": {
              "outlinewidth": 0,
              "ticks": ""
             }
            },
            "type": "parcoords"
           }
          ],
          "pie": [
           {
            "automargin": true,
            "type": "pie"
           }
          ],
          "scatter": [
           {
            "fillpattern": {
             "fillmode": "overlay",
             "size": 10,
             "solidity": 0.2
            },
            "type": "scatter"
           }
          ],
          "scatter3d": [
           {
            "line": {
             "colorbar": {
              "outlinewidth": 0,
              "ticks": ""
             }
            },
            "marker": {
             "colorbar": {
              "outlinewidth": 0,
              "ticks": ""
             }
            },
            "type": "scatter3d"
           }
          ],
          "scattercarpet": [
           {
            "marker": {
             "colorbar": {
              "outlinewidth": 0,
              "ticks": ""
             }
            },
            "type": "scattercarpet"
           }
          ],
          "scattergeo": [
           {
            "marker": {
             "colorbar": {
              "outlinewidth": 0,
              "ticks": ""
             }
            },
            "type": "scattergeo"
           }
          ],
          "scattergl": [
           {
            "marker": {
             "colorbar": {
              "outlinewidth": 0,
              "ticks": ""
             }
            },
            "type": "scattergl"
           }
          ],
          "scattermapbox": [
           {
            "marker": {
             "colorbar": {
              "outlinewidth": 0,
              "ticks": ""
             }
            },
            "type": "scattermapbox"
           }
          ],
          "scatterpolar": [
           {
            "marker": {
             "colorbar": {
              "outlinewidth": 0,
              "ticks": ""
             }
            },
            "type": "scatterpolar"
           }
          ],
          "scatterpolargl": [
           {
            "marker": {
             "colorbar": {
              "outlinewidth": 0,
              "ticks": ""
             }
            },
            "type": "scatterpolargl"
           }
          ],
          "scatterternary": [
           {
            "marker": {
             "colorbar": {
              "outlinewidth": 0,
              "ticks": ""
             }
            },
            "type": "scatterternary"
           }
          ],
          "surface": [
           {
            "colorbar": {
             "outlinewidth": 0,
             "ticks": ""
            },
            "colorscale": [
             [
              0,
              "#0d0887"
             ],
             [
              0.1111111111111111,
              "#46039f"
             ],
             [
              0.2222222222222222,
              "#7201a8"
             ],
             [
              0.3333333333333333,
              "#9c179e"
             ],
             [
              0.4444444444444444,
              "#bd3786"
             ],
             [
              0.5555555555555556,
              "#d8576b"
             ],
             [
              0.6666666666666666,
              "#ed7953"
             ],
             [
              0.7777777777777778,
              "#fb9f3a"
             ],
             [
              0.8888888888888888,
              "#fdca26"
             ],
             [
              1,
              "#f0f921"
             ]
            ],
            "type": "surface"
           }
          ],
          "table": [
           {
            "cells": {
             "fill": {
              "color": "#EBF0F8"
             },
             "line": {
              "color": "white"
             }
            },
            "header": {
             "fill": {
              "color": "#C8D4E3"
             },
             "line": {
              "color": "white"
             }
            },
            "type": "table"
           }
          ]
         },
         "layout": {
          "annotationdefaults": {
           "arrowcolor": "#2a3f5f",
           "arrowhead": 0,
           "arrowwidth": 1
          },
          "autotypenumbers": "strict",
          "coloraxis": {
           "colorbar": {
            "outlinewidth": 0,
            "ticks": ""
           }
          },
          "colorscale": {
           "diverging": [
            [
             0,
             "#8e0152"
            ],
            [
             0.1,
             "#c51b7d"
            ],
            [
             0.2,
             "#de77ae"
            ],
            [
             0.3,
             "#f1b6da"
            ],
            [
             0.4,
             "#fde0ef"
            ],
            [
             0.5,
             "#f7f7f7"
            ],
            [
             0.6,
             "#e6f5d0"
            ],
            [
             0.7,
             "#b8e186"
            ],
            [
             0.8,
             "#7fbc41"
            ],
            [
             0.9,
             "#4d9221"
            ],
            [
             1,
             "#276419"
            ]
           ],
           "sequential": [
            [
             0,
             "#0d0887"
            ],
            [
             0.1111111111111111,
             "#46039f"
            ],
            [
             0.2222222222222222,
             "#7201a8"
            ],
            [
             0.3333333333333333,
             "#9c179e"
            ],
            [
             0.4444444444444444,
             "#bd3786"
            ],
            [
             0.5555555555555556,
             "#d8576b"
            ],
            [
             0.6666666666666666,
             "#ed7953"
            ],
            [
             0.7777777777777778,
             "#fb9f3a"
            ],
            [
             0.8888888888888888,
             "#fdca26"
            ],
            [
             1,
             "#f0f921"
            ]
           ],
           "sequentialminus": [
            [
             0,
             "#0d0887"
            ],
            [
             0.1111111111111111,
             "#46039f"
            ],
            [
             0.2222222222222222,
             "#7201a8"
            ],
            [
             0.3333333333333333,
             "#9c179e"
            ],
            [
             0.4444444444444444,
             "#bd3786"
            ],
            [
             0.5555555555555556,
             "#d8576b"
            ],
            [
             0.6666666666666666,
             "#ed7953"
            ],
            [
             0.7777777777777778,
             "#fb9f3a"
            ],
            [
             0.8888888888888888,
             "#fdca26"
            ],
            [
             1,
             "#f0f921"
            ]
           ]
          },
          "colorway": [
           "#636efa",
           "#EF553B",
           "#00cc96",
           "#ab63fa",
           "#FFA15A",
           "#19d3f3",
           "#FF6692",
           "#B6E880",
           "#FF97FF",
           "#FECB52"
          ],
          "font": {
           "color": "#2a3f5f"
          },
          "geo": {
           "bgcolor": "white",
           "lakecolor": "white",
           "landcolor": "#E5ECF6",
           "showlakes": true,
           "showland": true,
           "subunitcolor": "white"
          },
          "hoverlabel": {
           "align": "left"
          },
          "hovermode": "closest",
          "mapbox": {
           "style": "light"
          },
          "paper_bgcolor": "white",
          "plot_bgcolor": "#E5ECF6",
          "polar": {
           "angularaxis": {
            "gridcolor": "white",
            "linecolor": "white",
            "ticks": ""
           },
           "bgcolor": "#E5ECF6",
           "radialaxis": {
            "gridcolor": "white",
            "linecolor": "white",
            "ticks": ""
           }
          },
          "scene": {
           "xaxis": {
            "backgroundcolor": "#E5ECF6",
            "gridcolor": "white",
            "gridwidth": 2,
            "linecolor": "white",
            "showbackground": true,
            "ticks": "",
            "zerolinecolor": "white"
           },
           "yaxis": {
            "backgroundcolor": "#E5ECF6",
            "gridcolor": "white",
            "gridwidth": 2,
            "linecolor": "white",
            "showbackground": true,
            "ticks": "",
            "zerolinecolor": "white"
           },
           "zaxis": {
            "backgroundcolor": "#E5ECF6",
            "gridcolor": "white",
            "gridwidth": 2,
            "linecolor": "white",
            "showbackground": true,
            "ticks": "",
            "zerolinecolor": "white"
           }
          },
          "shapedefaults": {
           "line": {
            "color": "#2a3f5f"
           }
          },
          "ternary": {
           "aaxis": {
            "gridcolor": "white",
            "linecolor": "white",
            "ticks": ""
           },
           "baxis": {
            "gridcolor": "white",
            "linecolor": "white",
            "ticks": ""
           },
           "bgcolor": "#E5ECF6",
           "caxis": {
            "gridcolor": "white",
            "linecolor": "white",
            "ticks": ""
           }
          },
          "title": {
           "x": 0.05
          },
          "xaxis": {
           "automargin": true,
           "gridcolor": "white",
           "linecolor": "white",
           "ticks": "",
           "title": {
            "standoff": 15
           },
           "zerolinecolor": "white",
           "zerolinewidth": 2
          },
          "yaxis": {
           "automargin": true,
           "gridcolor": "white",
           "linecolor": "white",
           "ticks": "",
           "title": {
            "standoff": 15
           },
           "zerolinecolor": "white",
           "zerolinewidth": 2
          }
         }
        },
        "title": {
         "text": "LAK19 18m  - Polar (wing loading: )"
        },
        "xaxis": {
         "range": [
          0,
          280
         ],
         "title": {
          "font": {
           "color": "crimson",
           "family": "Courier",
           "size": 14
          },
          "text": "Vitesse (km/h)"
         },
         "zeroline": true,
         "zerolinecolor": "black",
         "zerolinewidth": 1
        },
        "yaxis": {
         "range": [
          -8,
          2
         ],
         "title": {
          "font": {
           "color": "crimson",
           "family": "Courier",
           "size": 14
          },
          "text": "Vz (m/s)"
         },
         "zeroline": true,
         "zerolinecolor": "black",
         "zerolinewidth": 1
        }
       }
      }
     },
     "metadata": {},
     "output_type": "display_data"
    }
   ],
   "source": [
    "# Display the graph\n",
    "import plotly.graph_objects as go\n",
    "\n",
    "trace1 = go.Scatter( x=x, y=y, mode='markers', marker=go.Marker(color='rgb(255, 127, 14)'), name='A, B, C points')\n",
    "trace2 = go.Scatter( x=x_polar, y=y_polar, mode='lines', marker=go.Marker(color='rgb(31, 119, 180)'), name='polar')\n",
    "# trace1 = go.Scatter( x=x, y=y, mode='markers', marker=, name='A, B, C points')\n",
    "# trace2 = go.Scatter( x=x_polar, y=y_polar, mode='lines', marker=, name='polar')\n",
    "layout = go.Layout(\n",
    "\t\ttitle_text='LAK19 18m  - Polar (wing loading: )',\n",
    "\t\tplot_bgcolor='rgb(229, 229, 229)',\n",
    "\t\tyaxis=dict(range=[-8, 2]),\n",
    "\t)\n",
    "\n",
    "data = [trace1, trace2]\n",
    "fig = go.Figure(data=data, layout=layout)\n",
    "\n",
    "\n",
    "fig.update_yaxes(zeroline=True, zerolinewidth=1, zerolinecolor='black')\n",
    "fig.update_yaxes(title_text='Vz (m/s)', title_font=dict(size=14, family='Courier', color='crimson'))\n",
    "\n",
    "fig.update_xaxes(zeroline=True, zerolinewidth=1, zerolinecolor='black')\n",
    "fig.update_xaxes(title_text='Vitesse (km/h)', title_font=dict(size=14, family='Courier', color='crimson'))\n",
    "\n",
    "#fig.add_annotation(x=50, y=-3.5, text='Polar: {}x^2 + {}x + {}'.format(round(polynom_coef[0],4),round(polynom_coef[1],4), round(polynom_coef[2],4) ), showarrow=False)\n",
    "fig.add_annotation(x=50, y=-3.5, text='Polar: {}'.format( polar_to_string(polar)), showarrow=False)\n",
    "\n",
    "fig.update_layout(xaxis_range=[0,280])\n",
    "\n",
    "fig.show()"
   ]
  }
 ],
 "metadata": {
  "kernelspec": {
   "display_name": "Python 3",
   "language": "python",
   "name": "python3"
  },
  "language_info": {
   "codemirror_mode": {
    "name": "ipython",
    "version": 3
   },
   "file_extension": ".py",
   "mimetype": "text/x-python",
   "name": "python",
   "nbconvert_exporter": "python",
   "pygments_lexer": "ipython3",
   "version": "3.9.16"
  },
  "orig_nbformat": 4,
  "vscode": {
   "interpreter": {
    "hash": "397704579725e15f5c7cb49fe5f0341eb7531c82d19f2c29d197e8b64ab5776b"
   }
  }
 },
 "nbformat": 4,
 "nbformat_minor": 2
}
