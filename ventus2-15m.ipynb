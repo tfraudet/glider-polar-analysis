{
 "cells": [
  {
   "attachments": {},
   "cell_type": "markdown",
   "metadata": {},
   "source": [
    "# Glider Speed polars analysis notebook"
   ]
  },
  {
   "cell_type": "code",
   "execution_count": 12,
   "metadata": {},
   "outputs": [
    {
     "name": "stdout",
     "output_type": "stream",
     "text": [
      "1.21.1\n"
     ]
    }
   ],
   "source": [
    "import numpy as np\n",
    "import math\n",
    "from numpy.polynomial import Polynomial\n",
    "\n",
    "print(np.__version__)\n",
    "\n",
    "# https://www.geeksforgeeks.org/python-implementation-of-polynomial-regression/?ref=lbp\n",
    "# old vs new API https://numpy.org/doc/1.21/reference/routines.polynomials.html"
   ]
  },
  {
   "cell_type": "code",
   "execution_count": 13,
   "metadata": {},
   "outputs": [],
   "source": [
    "# utilities functions & constants\n",
    "\n",
    "KM_TO_MS = 3.6\t\t# factor to convert km/h in m/s\n",
    "CONVERT_TO_MS = False\n",
    "\n",
    "POLAR_CURVE_START_KM = 70\t\t# in km/h\n",
    "POLAR_CURVE_END_KM = 230\t\t# in km/h\n",
    "\n",
    "POLAR_CURVE_START = (POLAR_CURVE_START_KM / KM_TO_MS) if CONVERT_TO_MS else POLAR_CURVE_START_KM\n",
    "POLAR_CURVE_END = (POLAR_CURVE_END_KM / KM_TO_MS)if CONVERT_TO_MS else POLAR_CURVE_END_KM\n",
    "\n",
    "#POLAR_CURVE_NBR_SAMPLE = round((POLAR_CURVE_END - POLAR_CURVE_START) // 10)\n",
    "POLAR_CURVE_NBR_SAMPLE =  33\n",
    "\n",
    "def polar_to_string(p):\n",
    "\tpolar_str = '{}x<sup>2</sup>'.format(round(p.coeffs[0],4))\n",
    "\tpolar_str += (' + ' if (p.coeffs[1] >= 0 ) else ' ')\n",
    "\tpolar_str += '{}x'.format(round(p.coeffs[1],4))\n",
    "\tpolar_str += (' + ' if (p.coeffs[2] >= 0 ) else ' ')\n",
    "\tpolar_str += '{}'.format(round(p.coeffs[2],4))\n",
    "\treturn polar_str\n",
    "\n",
    "xaxis_unit = lambda x: x/ (KM_TO_MS if CONVERT_TO_MS else 1)"
   ]
  },
  {
   "cell_type": "code",
   "execution_count": 14,
   "metadata": {},
   "outputs": [],
   "source": [
    "\n",
    "## Polar data fimport from json file\n",
    "import json\n",
    "glider_pdata = None\t# glider polars data\n",
    "\n",
    "# Opening JSON file\n",
    "with open('./ventus2-15m-polars-db.json') as json_file:\n",
    "\tglider_pdata = json.load(json_file)\n",
    "\n",
    "byhand_data = glider_pdata['specifications']['SandroExcel-m1']\n",
    "abc_ref_data = glider_pdata['specifications']['SandroExcel-m2']\n",
    "abc_data = glider_pdata['specifications']['SandroExcel-m4']"
   ]
  },
  {
   "cell_type": "code",
   "execution_count": 15,
   "metadata": {},
   "outputs": [],
   "source": [
    "\n",
    "\n",
    "# c1 curve will be the calculated polar using the 3 points method, \n",
    "# the 3 points are estimated based on the flight polar diagram of the manual, page 5.4\n",
    "\n",
    "c1_x = [xaxis_unit(x) for x in byhand_data['speed']]\n",
    "c1_y = byhand_data['sink_rate']\n",
    "c1_wl = byhand_data['wing_loading']\n",
    "c1_tn = 'Manual (weight: {} kg)'.format(byhand_data['weight'])"
   ]
  },
  {
   "cell_type": "code",
   "execution_count": 16,
   "metadata": {},
   "outputs": [
    {
     "name": "stdout",
     "output_type": "stream",
     "text": [
      "Polynomial (weight 430kg) is\n",
      "      2\n",
      "-1.5 x + 2.92 x - 2.1\n",
      "\n",
      "Vitesse (km/h)= [ 70.  75.  80.  85.  90.  95. 100. 105. 110. 115. 120. 125. 130. 135.\n",
      " 140. 145. 150. 155. 160. 165. 170. 175. 180. 185. 190. 195. 200. 205.\n",
      " 210. 215. 220. 225. 230.]\n",
      "\n",
      "Sink rate (m/s) = [-0.791   -0.75375 -0.724   -0.70175 -0.687   -0.67975 -0.68    -0.68775\n",
      " -0.703   -0.72575 -0.756   -0.79375 -0.839   -0.89175 -0.952   -1.01975\n",
      " -1.095   -1.17775 -1.268   -1.36575 -1.471   -1.58375 -1.704   -1.83175\n",
      " -1.967   -2.10975 -2.26    -2.41775 -2.583   -2.75575 -2.936   -3.12375\n",
      " -3.319  ]\n",
      "\n",
      "L/D = [24.58210423 27.63957988 30.6936771  33.64604362 36.39010189 38.82146214\n",
      " 40.8496732  42.40882103 43.46451715 44.01576913 44.09171076 43.74453193\n",
      " 43.04065687 42.05214466 40.8496732  39.49769824 38.05175038 36.55746598\n",
      " 35.05082369 33.55909451 32.10212252 30.6936771  29.342723   28.05453194\n",
      " 26.83161046 25.674448   24.58210423 23.5526603  22.58355917 21.67185783\n",
      " 20.81441114 20.0080032  19.24943926]\n"
     ]
    }
   ],
   "source": [
    "# To plot ABC polar y = - (Ax^2 + Bx + C)\n",
    "c2_polar = np.poly1d([abc_ref_data[\"A\"],abc_ref_data[\"B\"], abc_ref_data[\"C\"] ])\n",
    "c2_polar = np.polymul(c2_polar,-1)\n",
    "print ('Polynomial (weight {}kg) is'.format(abc_ref_data[\"weight\"]))\n",
    "print(c2_polar) \n",
    "\n",
    "c2_x_polar = np.linspace(POLAR_CURVE_START, POLAR_CURVE_END, POLAR_CURVE_NBR_SAMPLE)\n",
    "print('\\r\\nVitesse (km/h)= {}'.format(c2_x_polar))\n",
    "\n",
    "c2_y_polar = c2_polar(np.divide(c2_x_polar,100))\n",
    "print('\\r\\nSink rate (m/s) = {}'.format(c2_y_polar))\n",
    "\n",
    "# f = lambda x: -1*(abc_ref_data[\"A\"]*(x/100)**2 + abc_ref_data[\"B\"]*(x/100) + abc_ref_data[\"C\"])\n",
    "# c2_y_polar = [f(x) for x in c2_x_polar]\n",
    "# print('\\r\\nc2_y_polar = {}'.format(c2_y_polar))\n",
    "\n",
    "c2_wl = abc_ref_data['wing_loading']\n",
    "c2_w = abc_ref_data[\"weight\"]\n",
    "c2_tn = 'Model ABC (weight: {} kg)'.format(c2_w)\n",
    "\n",
    "c2_ld = np.divide(np.divide(-c2_x_polar , KM_TO_MS), c2_y_polar)\n",
    "print('\\r\\nL/D = {}'.format(c2_ld))"
   ]
  },
  {
   "cell_type": "code",
   "execution_count": 17,
   "metadata": {},
   "outputs": [
    {
     "name": "stdout",
     "output_type": "stream",
     "text": [
      "Polynom with legacy API is\n",
      "        2\n",
      "-1.391 x + 2.92 x - 2.264\n",
      "\n",
      "c3_y_polar = [-0.90209   -0.8569375 -0.81874   -0.7874975 -0.76321   -0.7458775\n",
      " -0.7355    -0.7320775 -0.73561   -0.7460975 -0.76354   -0.7879375\n",
      " -0.81929   -0.8575975 -0.90286   -0.9550775 -1.01425   -1.0803775\n",
      " -1.15346   -1.2334975 -1.32049   -1.4144375 -1.51534   -1.6231975\n",
      " -1.73801   -1.8597775 -1.9885    -2.1241775 -2.26681   -2.4163975\n",
      " -2.57294   -2.7364375 -2.90689  ]\n"
     ]
    }
   ],
   "source": [
    "# To plot ABC polar y = - (Ax^2 + Bx + C)\n",
    "c3_polar = np.poly1d([abc_data[\"A\"],abc_data[\"B\"], abc_data[\"C\"] ])\n",
    "c3_polar = np.polymul(c3_polar,-1)\n",
    "print ('Polynom with legacy API is')\n",
    "print(c3_polar) \n",
    "\n",
    "c3_x_polar = np.linspace(POLAR_CURVE_START, POLAR_CURVE_END, POLAR_CURVE_NBR_SAMPLE)\n",
    "\n",
    "c3_y_polar = c3_polar(np.divide(c3_x_polar,100))\n",
    "print('\\r\\nc3_y_polar = {}'.format(c3_y_polar))\n",
    "\n",
    "c3_wl = abc_data['wing_loading']\n",
    "c3_tn = 'Model ABC (weight: {} kg)'.format(abc_data['weight'])"
   ]
  },
  {
   "cell_type": "code",
   "execution_count": 18,
   "metadata": {},
   "outputs": [],
   "source": [
    "# calculate polar for a specific weight, référence is c2\n",
    "#\n",
    "new_weight = 330\n",
    "\n",
    "c4_x_polar = [ vi * math.sqrt(new_weight/c2_w) for vi in c2_x_polar]\n",
    "c4_y_polar = [ vz * math.sqrt(new_weight/c2_w) for vz in c2_y_polar]\n",
    "\n",
    "c4_tn = 'Adjusted (weight: {} kg)'.format(new_weight)"
   ]
  },
  {
   "cell_type": "code",
   "execution_count": 19,
   "metadata": {},
   "outputs": [
    {
     "data": {
      "application/vnd.plotly.v1+json": {
       "config": {
        "plotlyServerURL": "https://plot.ly"
       },
       "data": [
        {
         "hoverinfo": "x+y",
         "hovertemplate": "<extra></extra>Speed: %{x:.0f}km/h<br>Sink rate: %{y:.2f}m/s",
         "mode": "lines+markers",
         "name": "Manual (weight: 330 kg)",
         "type": "scatter",
         "x": [
          68.84696838,
          73.76460897,
          78.68224957,
          83.59989017,
          88.51753077,
          93.43517137,
          98.35281196,
          103.2704526,
          108.1880932,
          113.1057338,
          118.0233744,
          122.941015,
          127.8586556,
          132.7762962,
          137.6939368,
          142.6115773,
          147.5292179,
          152.4468585,
          157.3644991,
          162.2821397,
          167.1997803,
          172.1174209,
          177.0350615,
          181.9527021,
          186.8703427,
          191.7879833,
          196.7056239,
          201.6232645,
          206.5409051,
          211.4585457
         ],
         "y": [
          -0.79,
          -0.65,
          -0.59,
          -0.55,
          -0.550387253,
          -0.573848087,
          -0.598861614,
          -0.622868057,
          -0.653421406,
          -0.695763406,
          -0.7455988,
          -0.821517352,
          -0.905086056,
          -0.996781735,
          -1.091231836,
          -1.188781525,
          -1.288972367,
          -1.391577762,
          -1.50030469,
          -1.615824322,
          -1.735788218,
          -1.861589423,
          -1.993405703,
          -2.12970456,
          -2.274785256,
          -2.423297486,
          -2.576628757,
          -2.735159079,
          -2.905160439,
          -3.09895833
         ]
        },
        {
         "hoverinfo": "x+y",
         "hovertemplate": "<extra></extra>Speed: %{x:.0f}km/h<br>Sink rate: %{y:.2f}m/s",
         "marker": {
          "size": 6,
          "symbol": "square"
         },
         "mode": "lines+markers",
         "name": "Model ABC (weight: 430 kg)",
         "type": "scatter",
         "x": [
          70,
          75,
          80,
          85,
          90,
          95,
          100,
          105,
          110,
          115,
          120,
          125,
          130,
          135,
          140,
          145,
          150,
          155,
          160,
          165,
          170,
          175,
          180,
          185,
          190,
          195,
          200,
          205,
          210,
          215,
          220,
          225,
          230
         ],
         "y": [
          -0.7910000000000001,
          -0.7537500000000001,
          -0.7240000000000002,
          -0.7017500000000001,
          -0.6870000000000003,
          -0.6797500000000001,
          -0.6800000000000002,
          -0.6877500000000003,
          -0.7030000000000003,
          -0.7257500000000001,
          -0.756,
          -0.7937500000000002,
          -0.8390000000000004,
          -0.8917500000000005,
          -0.9519999999999997,
          -1.01975,
          -1.0950000000000002,
          -1.1777500000000005,
          -1.2680000000000007,
          -1.3657499999999998,
          -1.471,
          -1.5837500000000002,
          -1.7040000000000006,
          -1.8317500000000009,
          -1.9669999999999996,
          -2.10975,
          -2.2600000000000002,
          -2.41775,
          -2.583000000000001,
          -2.7557499999999995,
          -2.936000000000001,
          -3.1237500000000002,
          -3.3189999999999995
         ]
        },
        {
         "hoverinfo": "x+y",
         "hovertemplate": "<extra></extra>Speed: %{x:.0f}km/h<br>Sink rate: %{y:.2f}m/s",
         "marker": {
          "size": 6,
          "symbol": "diamond"
         },
         "mode": "lines+markers",
         "name": "Model ABC (weight: 500 kg)",
         "type": "scatter",
         "x": [
          70,
          75,
          80,
          85,
          90,
          95,
          100,
          105,
          110,
          115,
          120,
          125,
          130,
          135,
          140,
          145,
          150,
          155,
          160,
          165,
          170,
          175,
          180,
          185,
          190,
          195,
          200,
          205,
          210,
          215,
          220,
          225,
          230
         ],
         "y": [
          -0.9020900000000001,
          -0.8569374999999999,
          -0.81874,
          -0.7874975,
          -0.7632099999999999,
          -0.7458775000000002,
          -0.7355,
          -0.7320774999999999,
          -0.7356100000000001,
          -0.7460974999999999,
          -0.7635400000000001,
          -0.7879375,
          -0.8192900000000001,
          -0.8575975000000002,
          -0.9028599999999998,
          -0.9550775,
          -1.01425,
          -1.0803775,
          -1.1534600000000002,
          -1.2334975000000001,
          -1.3204900000000002,
          -1.4144375,
          -1.5153400000000001,
          -1.6231975,
          -1.73801,
          -1.8597775,
          -1.9885000000000002,
          -2.124177499999999,
          -2.26681,
          -2.4163975,
          -2.5729400000000013,
          -2.7364375,
          -2.906889999999999
         ]
        },
        {
         "hoverinfo": "x+y",
         "hovertemplate": "<extra></extra>Speed: %{x:.0f}km/h<br>Sink rate: %{y:.2f}m/s",
         "marker": {
          "size": 8,
          "symbol": "x"
         },
         "mode": "lines+markers",
         "name": "Adjusted (weight: 330 kg)",
         "type": "scatter",
         "x": [
          61.32263135481932,
          65.70281930873499,
          70.08300726265065,
          74.46319521656632,
          78.84338317048199,
          83.22357112439765,
          87.60375907831332,
          91.98394703222898,
          96.36413498614465,
          100.74432294006031,
          105.12451089397598,
          109.50469884789165,
          113.88488680180731,
          118.26507475572298,
          122.64526270963864,
          127.02545066355431,
          131.40563861746998,
          135.78582657138563,
          140.1660145253013,
          144.54620247921696,
          148.92639043313264,
          153.3065783870483,
          157.68676634096397,
          162.06695429487962,
          166.4471422487953,
          170.82733020271095,
          175.20751815662663,
          179.58770611054229,
          183.96789406445797,
          188.34808201837362,
          192.7282699722893,
          197.10845792620495,
          201.48864588012063
         ],
         "y": [
          -0.6929457343094585,
          -0.6603133340527867,
          -0.6342512157269886,
          -0.6147593793320638,
          -0.6018378248680127,
          -0.5954865523348348,
          -0.5957055617325306,
          -0.6024948530611001,
          -0.6158544263205429,
          -0.635784281510859,
          -0.6622844186320487,
          -0.6953548376841121,
          -0.734995538667049,
          -0.7812065215808595,
          -0.8339877864255425,
          -0.8933393332010999,
          -0.959261161907531,
          -1.0317532725448355,
          -1.1108156651130134,
          -1.196448339612064,
          -1.288651296041989,
          -1.3874245344027873,
          -1.4927680546944595,
          -1.604681856917005,
          -1.7231659410704225,
          -1.8482203071547152,
          -1.9798449551698811,
          -2.11803988511592,
          -2.262805096992834,
          -2.414140590800619,
          -2.5720463665392796,
          -2.7365224242088124,
          -2.9075687638092185
         ]
        }
       ],
       "layout": {
        "height": 800,
        "template": {
         "data": {
          "bar": [
           {
            "error_x": {
             "color": "rgb(51,51,51)"
            },
            "error_y": {
             "color": "rgb(51,51,51)"
            },
            "marker": {
             "line": {
              "color": "rgb(237,237,237)",
              "width": 0.5
             },
             "pattern": {
              "fillmode": "overlay",
              "size": 10,
              "solidity": 0.2
             }
            },
            "type": "bar"
           }
          ],
          "barpolar": [
           {
            "marker": {
             "line": {
              "color": "rgb(237,237,237)",
              "width": 0.5
             },
             "pattern": {
              "fillmode": "overlay",
              "size": 10,
              "solidity": 0.2
             }
            },
            "type": "barpolar"
           }
          ],
          "carpet": [
           {
            "aaxis": {
             "endlinecolor": "rgb(51,51,51)",
             "gridcolor": "white",
             "linecolor": "white",
             "minorgridcolor": "white",
             "startlinecolor": "rgb(51,51,51)"
            },
            "baxis": {
             "endlinecolor": "rgb(51,51,51)",
             "gridcolor": "white",
             "linecolor": "white",
             "minorgridcolor": "white",
             "startlinecolor": "rgb(51,51,51)"
            },
            "type": "carpet"
           }
          ],
          "choropleth": [
           {
            "colorbar": {
             "outlinewidth": 0,
             "tickcolor": "rgb(237,237,237)",
             "ticklen": 6,
             "ticks": "inside"
            },
            "type": "choropleth"
           }
          ],
          "contour": [
           {
            "colorbar": {
             "outlinewidth": 0,
             "tickcolor": "rgb(237,237,237)",
             "ticklen": 6,
             "ticks": "inside"
            },
            "colorscale": [
             [
              0,
              "rgb(20,44,66)"
             ],
             [
              1,
              "rgb(90,179,244)"
             ]
            ],
            "type": "contour"
           }
          ],
          "contourcarpet": [
           {
            "colorbar": {
             "outlinewidth": 0,
             "tickcolor": "rgb(237,237,237)",
             "ticklen": 6,
             "ticks": "inside"
            },
            "type": "contourcarpet"
           }
          ],
          "heatmap": [
           {
            "colorbar": {
             "outlinewidth": 0,
             "tickcolor": "rgb(237,237,237)",
             "ticklen": 6,
             "ticks": "inside"
            },
            "colorscale": [
             [
              0,
              "rgb(20,44,66)"
             ],
             [
              1,
              "rgb(90,179,244)"
             ]
            ],
            "type": "heatmap"
           }
          ],
          "heatmapgl": [
           {
            "colorbar": {
             "outlinewidth": 0,
             "tickcolor": "rgb(237,237,237)",
             "ticklen": 6,
             "ticks": "inside"
            },
            "colorscale": [
             [
              0,
              "rgb(20,44,66)"
             ],
             [
              1,
              "rgb(90,179,244)"
             ]
            ],
            "type": "heatmapgl"
           }
          ],
          "histogram": [
           {
            "marker": {
             "pattern": {
              "fillmode": "overlay",
              "size": 10,
              "solidity": 0.2
             }
            },
            "type": "histogram"
           }
          ],
          "histogram2d": [
           {
            "colorbar": {
             "outlinewidth": 0,
             "tickcolor": "rgb(237,237,237)",
             "ticklen": 6,
             "ticks": "inside"
            },
            "colorscale": [
             [
              0,
              "rgb(20,44,66)"
             ],
             [
              1,
              "rgb(90,179,244)"
             ]
            ],
            "type": "histogram2d"
           }
          ],
          "histogram2dcontour": [
           {
            "colorbar": {
             "outlinewidth": 0,
             "tickcolor": "rgb(237,237,237)",
             "ticklen": 6,
             "ticks": "inside"
            },
            "colorscale": [
             [
              0,
              "rgb(20,44,66)"
             ],
             [
              1,
              "rgb(90,179,244)"
             ]
            ],
            "type": "histogram2dcontour"
           }
          ],
          "mesh3d": [
           {
            "colorbar": {
             "outlinewidth": 0,
             "tickcolor": "rgb(237,237,237)",
             "ticklen": 6,
             "ticks": "inside"
            },
            "type": "mesh3d"
           }
          ],
          "parcoords": [
           {
            "line": {
             "colorbar": {
              "outlinewidth": 0,
              "tickcolor": "rgb(237,237,237)",
              "ticklen": 6,
              "ticks": "inside"
             }
            },
            "type": "parcoords"
           }
          ],
          "pie": [
           {
            "automargin": true,
            "type": "pie"
           }
          ],
          "scatter": [
           {
            "fillpattern": {
             "fillmode": "overlay",
             "size": 10,
             "solidity": 0.2
            },
            "type": "scatter"
           }
          ],
          "scatter3d": [
           {
            "line": {
             "colorbar": {
              "outlinewidth": 0,
              "tickcolor": "rgb(237,237,237)",
              "ticklen": 6,
              "ticks": "inside"
             }
            },
            "marker": {
             "colorbar": {
              "outlinewidth": 0,
              "tickcolor": "rgb(237,237,237)",
              "ticklen": 6,
              "ticks": "inside"
             }
            },
            "type": "scatter3d"
           }
          ],
          "scattercarpet": [
           {
            "marker": {
             "colorbar": {
              "outlinewidth": 0,
              "tickcolor": "rgb(237,237,237)",
              "ticklen": 6,
              "ticks": "inside"
             }
            },
            "type": "scattercarpet"
           }
          ],
          "scattergeo": [
           {
            "marker": {
             "colorbar": {
              "outlinewidth": 0,
              "tickcolor": "rgb(237,237,237)",
              "ticklen": 6,
              "ticks": "inside"
             }
            },
            "type": "scattergeo"
           }
          ],
          "scattergl": [
           {
            "marker": {
             "colorbar": {
              "outlinewidth": 0,
              "tickcolor": "rgb(237,237,237)",
              "ticklen": 6,
              "ticks": "inside"
             }
            },
            "type": "scattergl"
           }
          ],
          "scattermapbox": [
           {
            "marker": {
             "colorbar": {
              "outlinewidth": 0,
              "tickcolor": "rgb(237,237,237)",
              "ticklen": 6,
              "ticks": "inside"
             }
            },
            "type": "scattermapbox"
           }
          ],
          "scatterpolar": [
           {
            "marker": {
             "colorbar": {
              "outlinewidth": 0,
              "tickcolor": "rgb(237,237,237)",
              "ticklen": 6,
              "ticks": "inside"
             }
            },
            "type": "scatterpolar"
           }
          ],
          "scatterpolargl": [
           {
            "marker": {
             "colorbar": {
              "outlinewidth": 0,
              "tickcolor": "rgb(237,237,237)",
              "ticklen": 6,
              "ticks": "inside"
             }
            },
            "type": "scatterpolargl"
           }
          ],
          "scatterternary": [
           {
            "marker": {
             "colorbar": {
              "outlinewidth": 0,
              "tickcolor": "rgb(237,237,237)",
              "ticklen": 6,
              "ticks": "inside"
             }
            },
            "type": "scatterternary"
           }
          ],
          "surface": [
           {
            "colorbar": {
             "outlinewidth": 0,
             "tickcolor": "rgb(237,237,237)",
             "ticklen": 6,
             "ticks": "inside"
            },
            "colorscale": [
             [
              0,
              "rgb(20,44,66)"
             ],
             [
              1,
              "rgb(90,179,244)"
             ]
            ],
            "type": "surface"
           }
          ],
          "table": [
           {
            "cells": {
             "fill": {
              "color": "rgb(237,237,237)"
             },
             "line": {
              "color": "white"
             }
            },
            "header": {
             "fill": {
              "color": "rgb(217,217,217)"
             },
             "line": {
              "color": "white"
             }
            },
            "type": "table"
           }
          ]
         },
         "layout": {
          "annotationdefaults": {
           "arrowhead": 0,
           "arrowwidth": 1
          },
          "autotypenumbers": "strict",
          "coloraxis": {
           "colorbar": {
            "outlinewidth": 0,
            "tickcolor": "rgb(237,237,237)",
            "ticklen": 6,
            "ticks": "inside"
           }
          },
          "colorscale": {
           "sequential": [
            [
             0,
             "rgb(20,44,66)"
            ],
            [
             1,
             "rgb(90,179,244)"
            ]
           ],
           "sequentialminus": [
            [
             0,
             "rgb(20,44,66)"
            ],
            [
             1,
             "rgb(90,179,244)"
            ]
           ]
          },
          "colorway": [
           "#F8766D",
           "#A3A500",
           "#00BF7D",
           "#00B0F6",
           "#E76BF3"
          ],
          "font": {
           "color": "rgb(51,51,51)"
          },
          "geo": {
           "bgcolor": "white",
           "lakecolor": "white",
           "landcolor": "rgb(237,237,237)",
           "showlakes": true,
           "showland": true,
           "subunitcolor": "white"
          },
          "hoverlabel": {
           "align": "left"
          },
          "hovermode": "closest",
          "paper_bgcolor": "white",
          "plot_bgcolor": "rgb(237,237,237)",
          "polar": {
           "angularaxis": {
            "gridcolor": "white",
            "linecolor": "white",
            "showgrid": true,
            "tickcolor": "rgb(51,51,51)",
            "ticks": "outside"
           },
           "bgcolor": "rgb(237,237,237)",
           "radialaxis": {
            "gridcolor": "white",
            "linecolor": "white",
            "showgrid": true,
            "tickcolor": "rgb(51,51,51)",
            "ticks": "outside"
           }
          },
          "scene": {
           "xaxis": {
            "backgroundcolor": "rgb(237,237,237)",
            "gridcolor": "white",
            "gridwidth": 2,
            "linecolor": "white",
            "showbackground": true,
            "showgrid": true,
            "tickcolor": "rgb(51,51,51)",
            "ticks": "outside",
            "zerolinecolor": "white"
           },
           "yaxis": {
            "backgroundcolor": "rgb(237,237,237)",
            "gridcolor": "white",
            "gridwidth": 2,
            "linecolor": "white",
            "showbackground": true,
            "showgrid": true,
            "tickcolor": "rgb(51,51,51)",
            "ticks": "outside",
            "zerolinecolor": "white"
           },
           "zaxis": {
            "backgroundcolor": "rgb(237,237,237)",
            "gridcolor": "white",
            "gridwidth": 2,
            "linecolor": "white",
            "showbackground": true,
            "showgrid": true,
            "tickcolor": "rgb(51,51,51)",
            "ticks": "outside",
            "zerolinecolor": "white"
           }
          },
          "shapedefaults": {
           "fillcolor": "black",
           "line": {
            "width": 0
           },
           "opacity": 0.3
          },
          "ternary": {
           "aaxis": {
            "gridcolor": "white",
            "linecolor": "white",
            "showgrid": true,
            "tickcolor": "rgb(51,51,51)",
            "ticks": "outside"
           },
           "baxis": {
            "gridcolor": "white",
            "linecolor": "white",
            "showgrid": true,
            "tickcolor": "rgb(51,51,51)",
            "ticks": "outside"
           },
           "bgcolor": "rgb(237,237,237)",
           "caxis": {
            "gridcolor": "white",
            "linecolor": "white",
            "showgrid": true,
            "tickcolor": "rgb(51,51,51)",
            "ticks": "outside"
           }
          },
          "xaxis": {
           "automargin": true,
           "gridcolor": "white",
           "linecolor": "white",
           "showgrid": true,
           "tickcolor": "rgb(51,51,51)",
           "ticks": "outside",
           "title": {
            "standoff": 15
           },
           "zerolinecolor": "white"
          },
          "yaxis": {
           "automargin": true,
           "gridcolor": "white",
           "linecolor": "white",
           "showgrid": true,
           "tickcolor": "rgb(51,51,51)",
           "ticks": "outside",
           "title": {
            "standoff": 15
           },
           "zerolinecolor": "white"
          }
         }
        },
        "title": {
         "text": "<b>Ventus2-15m  - Speed polars analysis</b>"
        },
        "xaxis": {
         "range": [
          0,
          253.75025484
         ],
         "title": {
          "font": {
           "color": "crimson",
           "family": "Courier",
           "size": 14
          },
          "text": "Vitesse (km/h)"
         },
         "zeroline": true,
         "zerolinecolor": "black",
         "zerolinewidth": 1
        },
        "yaxis": {
         "dtick": 0.5,
         "range": [
          -4,
          1
         ],
         "title": {
          "font": {
           "color": "crimson",
           "family": "Courier",
           "size": 14
          },
          "text": "Vz (m/s)"
         },
         "zeroline": true,
         "zerolinecolor": "black",
         "zerolinewidth": 1
        }
       }
      }
     },
     "metadata": {},
     "output_type": "display_data"
    }
   ],
   "source": [
    "# Display the graph\n",
    "# https://plotly.com/python/plotly-fundamentals/\n",
    "# https://plotly.com/python-api-reference/\n",
    "\n",
    "import plotly.graph_objects as go\n",
    "\n",
    "# trace1 = go.Scatter( x=c1_x, y=c1_y, mode='markers', name='A, B, C points', \n",
    "# \ttext=['Point A', 'Point B', 'Point C'], hovertemplate='<extra></extra><b>%{text}</b><br>Speed: %{x}km/h<br>Sink rate: %{y}m/s', hoverinfo='x+y+text')\n",
    "\t\n",
    "trace1 = go.Scatter( x=c1_x, y=c1_y, mode='lines+markers', name=c1_tn,\n",
    "\t\thovertemplate='<extra></extra>Speed: %{x:.0f}km/h<br>Sink rate: %{y:.2f}m/s', hoverinfo='x+y')\n",
    "\n",
    "trace2 = go.Scatter( x=c2_x_polar, y=c2_y_polar, mode='lines+markers', name=c2_tn, marker_symbol = 'square',marker_size=6,\n",
    "\t\thovertemplate='<extra></extra>Speed: %{x:.0f}km/h<br>Sink rate: %{y:.2f}m/s', hoverinfo='x+y')\n",
    "\n",
    "trace3 = go.Scatter( x=c3_x_polar, y=c3_y_polar, mode='lines+markers', name=c3_tn, marker_symbol = 'diamond',marker_size=6,\n",
    "\t\thovertemplate='<extra></extra>Speed: %{x:.0f}km/h<br>Sink rate: %{y:.2f}m/s', hoverinfo='x+y')\n",
    "\n",
    "trace4 = go.Scatter( x=c4_x_polar, y=c4_y_polar, mode='lines+markers', name=c4_tn, marker_symbol = 'x',marker_size=8,\n",
    "\t\thovertemplate='<extra></extra>Speed: %{x:.0f}km/h<br>Sink rate: %{y:.2f}m/s', hoverinfo='x+y')\n",
    "\n",
    "layout = go.Layout(\n",
    "\t\ttitle_text='<b>{}  - Speed polars analysis</b>'.format(glider_pdata['glider']),\n",
    "\t\theight=800,\n",
    "\t\tyaxis=dict(range=[-4, 1]),\n",
    "\t\ttemplate='ggplot2',\n",
    "\t)\n",
    "\n",
    "data = [trace1, trace2, trace3, trace4]\n",
    "\n",
    "fig = go.Figure(data=data, layout=layout)\n",
    "\n",
    "fig.update_yaxes(zeroline=True, zerolinewidth=1, zerolinecolor='black',  dtick=0.5)\n",
    "fig.update_yaxes(title_text='Vz (m/s)', title_font=dict(size=14, family='Courier', color='crimson'))\n",
    "\n",
    "fig.update_xaxes(zeroline=True, zerolinewidth=1, zerolinecolor='black')\n",
    "fig.update_xaxes(title_text='Vitesse ({})'.format(( 'm/s' if CONVERT_TO_MS else 'km/h')),\n",
    "\t title_font=dict(size=14, family='Courier', color='crimson'))\n",
    "\n",
    "# fig.add_annotation(x=xaxis_unit(50), y=-2.75, text='Polar: {}'.format( polar_to_string(c1_polar)), showarrow=False)\n",
    "\n",
    "fig.update_layout(xaxis_range=[0,max(c1_x)*1.2])\n",
    "\n",
    "fig.show()"
   ]
  },
  {
   "cell_type": "code",
   "execution_count": 20,
   "metadata": {},
   "outputs": [
    {
     "data": {
      "application/vnd.jupyter.widget-view+json": {
       "model_id": "815011b1221347118419c758e7a1980e",
       "version_major": 2,
       "version_minor": 0
      },
      "text/plain": [
       "VBox(children=(FigureWidget({\n",
       "    'data': [{'hoverinfo': 'x+y',\n",
       "              'hovertemplate': '<extra></extra…"
      ]
     },
     "metadata": {},
     "output_type": "display_data"
    }
   ],
   "source": [
    "# https://ipywidgets.readthedocs.io/en/latest/index.html\n",
    "# https://github.com/jonmmease/plotly_ipywidget_notebooks\n",
    "\n",
    "from ipywidgets import widgets, Layout, Label\n",
    "import ipywidgets as iw\n",
    "\n",
    "def polarAdjusted4Weight(new_weight):\n",
    "\tc4_x_polar = [ vi * math.sqrt(new_weight/c2_w) for vi in c2_x_polar]\n",
    "\tc4_y_polar = [ vz * math.sqrt(new_weight/c2_w) for vz in c2_y_polar]\n",
    "\n",
    "\tc4_tn = 'Adjusted (weight: {} kg)'.format(new_weight)\n",
    "\treturn c4_x_polar, c4_y_polar, c4_tn\n",
    "\n",
    "\n",
    "f2 = go.FigureWidget(fig)\n",
    "# f2\n",
    "\n",
    "weights = widgets.IntSlider(\n",
    "\tvalue=new_weight,\n",
    "\tmin=300,\n",
    "\tmax=550,\n",
    "\tstep=10,\n",
    "\tdescription='Weight',\n",
    "\tcontinuous_update=True,\n",
    "\treadout=False \n",
    ")\n",
    "weight_text = Label(value=f'{weights.value:d} kg', description='', layout=Layout(width='80px'))\n",
    "\n",
    "container = widgets.HBox(children=[weights,weight_text,], layout=Layout(margin='0px 0px 100px 100px'))\n",
    "\n",
    "\n",
    "def on_value_change(change):\n",
    "\tweight_text.value = f'{weights.value:d} kg'\n",
    "\twith f2.batch_update():\n",
    "\t\tx, y, t = polarAdjusted4Weight(weights.value)\n",
    "\t\tf2.data[3].x = x\n",
    "\t\tf2.data[3].y = y\n",
    "\t\tf2.data[3].name = t\n",
    "\n",
    "weights.observe(on_value_change, names=\"value\")\n",
    "\n",
    "widgets.VBox([f2, container])\n",
    "\n"
   ]
  }
 ],
 "metadata": {
  "kernelspec": {
   "display_name": "Python 3",
   "language": "python",
   "name": "python3"
  },
  "language_info": {
   "codemirror_mode": {
    "name": "ipython",
    "version": 3
   },
   "file_extension": ".py",
   "mimetype": "text/x-python",
   "name": "python",
   "nbconvert_exporter": "python",
   "pygments_lexer": "ipython3",
   "version": "3.9.16"
  },
  "orig_nbformat": 4,
  "vscode": {
   "interpreter": {
    "hash": "397704579725e15f5c7cb49fe5f0341eb7531c82d19f2c29d197e8b64ab5776b"
   }
  }
 },
 "nbformat": 4,
 "nbformat_minor": 2
}
